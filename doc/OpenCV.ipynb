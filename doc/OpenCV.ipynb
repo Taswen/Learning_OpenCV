{
 "cells": [
  {
   "cell_type": "markdown",
   "source": [
    "# 第1章概述\n"
   ],
   "metadata": {}
  },
  {
   "cell_type": "markdown",
   "source": [
    "## 什么是OpenCV\n"
   ],
   "metadata": {}
  },
  {
   "cell_type": "markdown",
   "source": [
    "OpenCV是一个开源的计算机视觉库，可以从<http://opencv.org>获取。\n",
    "OpenCV库用C和C++语言编写，可以在Windows 、Linux 、Mac OS X等系统运行。同时也在积极开发Python 、Java 、Matlab 以及其他一些语言的接口，将库导入安卓和iOS 中为移动设备开发应用。\n",
    "OpenCV设计用于进行高效的计算，十分强调实时应用的开发。它由C++语言编写并进行了深度优化，从而可以享受多线程处理的优势。\n",
    "\n",
    "> 在英特尔架构上,可以购买英特尔的集成性能基元(IPP) 库，该库包含了许多算法领域的底层优化程序。在库安装完毕的情况下OpenCV在运行的时候会自动调用合适的IPP库。从OpenCV 3.0开始，英特尔许可OpenCV研发团队和OpenCV社区拥有一个免费的IPP库的子库（称IPPICV) , 该子库默认集成在OpenCV 中并在运算时发挥效用。\n",
    "\n",
    "OpenCV 的一个目标是提供易千使用的计算机视觉接口，从而帮助人们快速建立精巧的视觉应用。OpenCV 库包含从计算机视觉各个领域衍生出来的500 多个函数，包括工业产品质怔检验、医学图像处理、安保领域、交互操作、相机校正、双目视觉以及机器人学。因为计算机视觉和机器学习经常在一起使用，所以OpenCV也包含一个完备的、具有通用性的机器学习库(ML模块）。\n"
   ],
   "metadata": {}
  },
  {
   "cell_type": "markdown",
   "source": [
    "\n",
    "## OpenCV怎么用\n"
   ],
   "metadata": {}
  },
  {
   "cell_type": "markdown",
   "source": [
    "\n",
    "OpenCV在世界范围内都非常流行，尤其是在中国、日本、俄罗斯、欧洲和以色列有着庞大的用户社区。\n",
    "OpenCV的开源许可允许任何人利用OpenCV包含的任何组件构建商业产品。\n",
    "\n"
   ],
   "metadata": {}
  },
  {
   "cell_type": "markdown",
   "source": [
    "\n",
    "## 什么是计算机视觉\n"
   ],
   "metadata": {}
  },
  {
   "cell_type": "markdown",
   "source": [
    "\n",
    "> 计算机视觉这种技术可以将静止图像或视频数据转换为一种决策或新的表示。\n",
    "\n",
    "在机器视觉系统中，计算机会从相机或者硬盘接收栅格状排列的数字,其不存在一个预先建立的模式识别机制，无法自动控制焦距和\n",
    "光圈，也不能将多年的经验联系在一起，大部分的视觉系统都还处千一个作常朴素原始的阶段。\n",
    "\n",
    "对于计算机而言，看到的只是按照栅格状排列的数字。所有在栅格中给出的数字还有大量的噪声，所以每个数字只能给我们提供少量的信息，我们的任务变成将这个带有噪声的数字栅格转换为感知结果。\n",
    "\n",
    "给定一个对于3D世界的二维(2D) 观测，就不存在一个唯一的方式来重建三维信号。即使数据是完美的，相同的二维图像也可能表示一个无限的3D场景组合中的任一种情况。数据会被噪声和畸变所污染。这样的污染源于现实生活中的很多方面（天气、光线、折射率和运动），还有传感器中的电路噪声以及其他的一些电路系统影响，还有在采集之后对于图像压缩产生的影响。\n",
    "\n",
    "在经典的系统设计中，额外场景信息可以帮助我们从传感器的层面改善获取信息的质量。对于噪声，一般使用统计的方法来对抗。\n",
    "\n",
    "OpenCV 的目标是为计算机视觉需要解决的问题提供工具。在某些情况下，函数库中的高级功能可以有效解决计算机视觉中的问题。\n"
   ],
   "metadata": {}
  },
  {
   "cell_type": "markdown",
   "source": [
    "\r\n",
    "## OpenCV的起源\r\n"
   ],
   "metadata": {}
  },
  {
   "cell_type": "markdown",
   "source": [
    "\n",
    "OpenCV缘起于英特尔想要增强CPU集群性能的研究。该项目的结果是英特尔启动了许多项目，包括实时光线追踪算法以及三维墙体的显示。\n",
    "\n",
    "以下是OpenCV想要完成的一些目标：\n",
    "\n",
    "- 为高级的视觉研究提供开源并且优化过的基础代码，不再需要重复造轮子。\n",
    "- 以提供开发者可以在此基础上进行开发的通用接口为手段传播视觉相关知识，这样代码有更强的可读性和移植性。\n",
    "- 以创造可移植的、优化过的免费开源代码来推动基千高级视觉的商业应用，这些代码可以自由使用，不要求商业应用程序开放或免费。\n",
    "\n",
    "OpenCV得到了来自很多用户的贡献，研发主力也很大部分转移到英特尔之外。\n",
    "\n",
    "在成为一个开源的函数库之后， OpenCV经过柳树车库（Willow Garage）几年的开发，现在已经得到了OpenCV基金会的支持。在今天， OpenCV 由基金会以及一些上市公司和私人机构开发。\n"
   ],
   "metadata": {}
  },
  {
   "cell_type": "markdown",
   "source": [
    "\n",
    "### OpenCV的结构\n"
   ],
   "metadata": {}
  },
  {
   "cell_type": "markdown",
   "source": [
    "\n",
    "OpenCV是由层级结构组织的。处于最上层的是OpenCV和操作系统的交互。接下来是语言绑定和示例应用程序。再下一层opencv_contrib模块所包含的OpenCV 由其他开发人员所贡献的代码，其包含大多数高层级的函数功能。这就是OpenCV的核心。底层是基于硬件加速层(HAL) 的各种硬件优化。\n",
    "\n",
    "[OpenCV 3](img_OpenCV/Learning OpenCV 3.jpg)\n"
   ],
   "metadata": {}
  },
  {
   "cell_type": "markdown",
   "source": [
    "\n",
    "### 使用IPP来加速OpenCV\n"
   ],
   "metadata": {}
  },
  {
   "cell_type": "markdown",
   "source": [
    "\n",
    "如果在英特尔的处理器上使用， OpenCV就会自动使用一种免费的英特尔集成性能原语库(IPP) 的子集， IPP 8.x(IPPICV) 。IPPICV可以在编译阶段链接到OpenCV, 这样一来，会替代相应的低级优化的C语言代码（在cmake 中设置 `WITH_IPP=ON/OFF` 开启或者关闭这一功能，默认情况为开启）。\n"
   ],
   "metadata": {}
  },
  {
   "cell_type": "markdown",
   "source": [
    "\n",
    "### 谁拥有OpenCV\n"
   ],
   "metadata": {}
  },
  {
   "cell_type": "markdown",
   "source": [
    "\r\n",
    "尽管Gary Bradski在英特尔发起了OpenCV项目，但这个函数库的宗旨是促进商业和研究，这正是它的使命。因此，它是开源并且免费的，并且无论是研究还是商业目的代码都可以（全部或者部分的）使用或者被嵌入到其他程序中。它并不强制你声明基于此开发的代码必须是免费或者开源的。\r\n"
   ],
   "metadata": {}
  },
  {
   "cell_type": "markdown",
   "source": [
    "\r\n",
    "## 下载和安装OpenCV\r\n"
   ],
   "metadata": {}
  },
  {
   "cell_type": "markdown",
   "source": [
    "\n",
    "> OpenCV 官方网站\n",
    "> \n",
    "> <http://opencv.org/>\n",
    "> \n",
    "> 下载最新的且完整的源码以及大部分的release版本源码。\n",
    "\n",
    "\n",
    "> 下载页面\n",
    "> \n",
    "> <http://opencv.org/downloads.html>\n",
    "\n",
    "\n",
    "> 最新的代码\n",
    "> \n",
    "> <https://github.com/opencv/opencv>\n",
    "\n",
    "\n",
    "> 下载和编译opencv_contrib模块\n",
    "> \n",
    "> <https://github.com/opencv/opencv_contrib>\n"
   ],
   "metadata": {}
  },
  {
   "cell_type": "markdown",
   "source": [
    "\n",
    "### 安装\n"
   ],
   "metadata": {}
  },
  {
   "cell_type": "markdown",
   "source": [
    "\n",
    "OpenCV使用Git作为版本管理工具，使用Cmake来构建工程。\n"
   ],
   "metadata": {}
  },
  {
   "cell_type": "markdown",
   "source": [
    "\n",
    "#### Windows 系统\n"
   ],
   "metadata": {}
  },
  {
   "cell_type": "markdown",
   "source": [
    "\r\n",
    "在<https://opencv.org/downloads.html>, 可以发现最新的为Windows准备的最新版本OpenCV下载链接。可以通过这个链接下载一个EXE文件，该文件会把预编译好的OpenCV解压到你的电脑上，预编译版本支持不同版本的Visual Studio环境。\r\n",
    "\r\n",
    "需要再添加一个名为`OPENCV_DIR`的环境变晕来告诉编译器在哪里找到OpenCV的二进制文件。可以通过命令行工具对此进行设置。\r\n",
    "\r\n",
    "```cmd\r\n",
    "setx -m OPENCV_DIR D:\\OpenCV\\Build\\x64\\vc10\r\n",
    "```\r\n",
    "\r\n",
    "如果希望静态链接OpenCV, 就只需要做到这一步。如果希望使用OpenCV 的动态链接库(DLL) , 就需要告诉系统在哪里找到它的二进制库。只需要在库路径中添加`%0PENCV_DIR%\\bin`。\r\n",
    "\r\n",
    "OpenCV3 集成了IPP, 所以如果使用最新的x86或者x64CPU, 就可以获得或多或少的性能优势。\r\n",
    "\r\n",
    "按照如下操作从源码编译OpenCV ：\r\n",
    "\r\n",
    "* 运行CMake GUI。\r\n",
    "\r\n",
    "* 指定OpenCV源码所在路径以及构建目标文件夹（必须和源码所在路径不同）。\r\n",
    "\r\n",
    "* 按两次Configure键（选择可以使用的Visual Studio编译器或者MinGW构建文件，如果正在使用MinGW的话），直到所有条目没有红色警示。\r\n",
    "\r\n",
    "* 使用Visual Studio打开生成的解决方案并构建。如果使用的是MinGW, 则按照Linux的安装指导进行。\r\n",
    "\r\n",
    "\r\n",
    "> 注意：尽管Windows环境拥有预编译的release版本的库、但是它并不包含debug版本的库。所以，在开发OpenCV之前，需要打开解决方案并且自行编译那些库。\r\n",
    "\r\n"
   ],
   "metadata": {}
  },
  {
   "cell_type": "markdown",
   "source": [
    "\n",
    "#### Linux 系统\n"
   ],
   "metadata": {}
  },
  {
   "cell_type": "markdown",
   "source": [
    "\n",
    "略\n"
   ],
   "metadata": {}
  },
  {
   "cell_type": "markdown",
   "source": [
    "\n",
    "#### Mac系统\n"
   ],
   "metadata": {}
  },
  {
   "cell_type": "markdown",
   "source": [
    "\n",
    "略\n"
   ],
   "metadata": {}
  },
  {
   "cell_type": "markdown",
   "source": [
    "\n",
    "## 从Git获取最新的OpenCV\n"
   ],
   "metadata": {}
  },
  {
   "cell_type": "markdown",
   "source": [
    "\n",
    "> 寄存于 Github 上\n",
    "> \n",
    "> <https://github.com/opencv/opencv.git>\n"
   ],
   "metadata": {}
  },
  {
   "cell_type": "markdown",
   "source": [
    "\n",
    "## 更多的OpenCV文档\n"
   ],
   "metadata": {}
  },
  {
   "cell_type": "markdown",
   "source": [
    "\n",
    "> OpenCV 基础文档\n",
    "> \n",
    "> <https://opencv.org>\n",
    "\n",
    "> 深入教程\n",
    "> \n",
    "> 在<https://docs.opencv.org/3.4.15/d9/df8/tutorial_root.html>\n",
    "\n",
    "> 维基网站\n",
    "> \n",
    "> <https://github.com/opencv/opencv/wiki>\n",
    "\n",
    "\n"
   ],
   "metadata": {}
  },
  {
   "cell_type": "markdown",
   "source": [
    "\r\n",
    "### 提供的文档\r\n"
   ],
   "metadata": {}
  },
  {
   "cell_type": "markdown",
   "source": [
    "\n",
    "OpenCV 2.x 提供PDF格式的完整的引用手册以及丰富的教程，查看openev/doc 目录就可以得到。从OpenCV 3.x开始，就不再提供离线的文档了。\n"
   ],
   "metadata": {}
  },
  {
   "cell_type": "markdown",
   "source": [
    "\n",
    "### 在线文档和维基资源\n"
   ],
   "metadata": {}
  },
  {
   "cell_type": "markdown",
   "source": [
    "\n",
    "在<https://opencv.org>上有大量的文档和维基资源。\n",
    "\n",
    "> 参考\n",
    "> 这个部分包含函数、它们的参数以及如何使用它们的一些信息。\n",
    "> <https://docs.opencv.org>\n",
    "> 参考划分为几个部分，每个部分都和库中一个模块有关。具体的模块列表随着时间推移而不断的发展，但模块始终是组成这个库的基本单位。每个函数都是一个模块的一部分，以下是当前OpenCV所拥有的模块:\n",
    "\n",
    "> `Core`\n",
    ">\n",
    "> - 该模块包含OpenCV库的基础结构以及基本橾作。\n",
    "> \n",
    "> `Improc`\n",
    "> \n",
    "> - 图像处理模块包含基本的图像转换，包括滤波以及类似的卷积操作。\n",
    "> \n",
    "> `Highgui`\n",
    "> \n",
    "> - 在OpenCV 3.0 中， 分割为i mcodecs 、videoio以及highgui 三部分。\n",
    "> - 这个模块包含可以用来显示图像或者简单的输入的用户交互函数。这可以看作是一个非常轻量级的Windows UI工具包。\n",
    "> \n",
    "> `Video`\n",
    "> \n",
    "> - 该模块包含读取和写视频流的函数。\n",
    "> \n",
    "> `Calib3d`\n",
    "> \n",
    "> - 这个模块包括校准单个、双目以及多个相机的算法实现。\n",
    "> \n",
    "> `Feature2d`\n",
    "> \n",
    "> - 这个模块包含用千检测、描述以及匹配特征点的算法。\n",
    "> \n",
    "> `Objdectect`\n",
    "> \n",
    "> - 这个模块包含检测特定目标，比如人脸或者行人的算法。也可以训练检测器并用来检测其他物体。\n",
    "> \n",
    "> `Ml`\n",
    "> \n",
    "> - 机器学习模块本身是一个非常完备的模块，包含大量的机器学习算法实现并且这些算法都能和OpenCV 的数据类型自然交互。\n",
    "> \n",
    "> `Flann`\n",
    "> \n",
    "> - Flann的意思是“快速最邻近库” 。这个库包含一些你也许不会直接使用的方法，但是其他模块中的函数会调用它在数据集中进行最邻近搜索。\n",
    "> \n",
    "> `GPU`\n",
    "> \n",
    "> - 在OpenCV 3.x 中被分割为多个cuda* 模块\n",
    "> - GPU模块主要是函数在CUDA GPU上的优化实现，此外，还有一些仅用于GPU的功能。其中一些函数能够返回很好的结果，但是需要足够好的计算资源，如果硬件没有GPU, 则不会有什么提升。\n",
    "> \n",
    "> `Photo`\n",
    "> \n",
    "> - 这是一个相当新的模块，包含计算摄影学的一些函数工具。\n",
    "> \n",
    "> `Stitching`\n",
    "> \n",
    "> - 本模块是一个精巧的图像拼接流程实现。这是库中的新功能，但是，就像Photo模块一样，这个领域未来预计有很大的增长。\n",
    "> \n",
    "> `Nonfree`\n",
    "> \n",
    "> - 在OpenCV 3.0 中，被移到opencv_contriblxfeatures2d\n",
    "> - OpenCV 包含一些受到专利保护的或者受到使用限制的（比如SIFT算法）算法。这些篡法被隔离到它们自己的模块中，以表明你需要做一些特殊的工作，才可以在商业产品中使用它们。\n",
    "> \n",
    "> `Contrib`\n",
    "> \n",
    "> - 在OpenCV 3.0 中，融合进了opencv_contrib。\n",
    "> - 这个模块包含一些新的、还没有被集成进OpenCV库的东西。\n",
    "> \n",
    "> `Legacy`\n",
    "> \n",
    "> - 在OpenCV 3.0 中，被取消\n",
    "> - 这个模块包含一些老的尚未被完全取消的东西。\n",
    "> \n",
    "> `Ocl`\n",
    "> \n",
    "> - 在OpenCV 3.0中，被取消，取而代之的是T-API。\n",
    "> - 一个较新的模块，可以认为它和GPU 模块相似，它实现了开放并行编程的Khronos OpenCL标准。虽然现在模块的特性比GPU模块少很多，但Ocl模块的目标是提供可以运行在任何GPU或者是其他可以搭载Khronos 的并行设备。这与GPU模块形成了鲜明的对比，后者使用Nividia CUDA工具包进行开发，因此只能在Nividia GPU设备上工作。\n",
    "\n",
    "\n",
    "> 教程\n",
    "> \n",
    "> 这个部分是许多教程的集合，这些教程会告诉你如何完成各种各样的事情。这里有一些基础课程的教程（比如如何在不同平台上安装OpenCV或者创建OpenCV 项目）以及一些更高级的话题（比如目标检测的背景提取算法）。\n",
    "> <https://docs.opencv.org/master/d9/df8/tutorial_root.html>\n",
    "\n",
    "> 速查表\n",
    "> \n",
    "> 只有一页篇幅的PDF文档，包含整个库的高度压缩的参考。\n",
    "> <http://docs.opencv.org/3.0-last-rst/opencv_cheatsheet.pdf>\n",
    "\n",
    "> 维基\n",
    "> \n",
    "> 维基包含所有你可能想要的东西，甚至可能超乎你的想象。在这里，可以找到路线图、新闻、开放问题、bug追踪以及无数个更深入的主题，比如如何成为OpenCV 的贡献者。\n",
    "> <https://github.com/opencv/opencv/wiki>\n",
    "\n",
    "> 问答社区\n",
    "> \n",
    "> 问答社区是一个庞大的、包含数千个人遇到过的问题的档案集合。可以在这里向OpenCV社区提问，或者通过回答问题帮助其他人。\n",
    "> <https://forum.opencv.org/>\n",
    "\n"
   ],
   "metadata": {}
  },
  {
   "cell_type": "markdown",
   "source": [
    "\n",
    "## OpenCV贡献库\n"
   ],
   "metadata": {}
  },
  {
   "cell_type": "markdown",
   "source": [
    "\n",
    "在OpenCV 3.0 中，先前单一的库分成两部分：成熟的OpenCV和opencv_contrib 中的最新模块。前者巾核心的OpenCV 团队维护，并且包含（大部分）稳定的代码，而后者则不成熟，主要由社区维护和开发，可能有非OpenCV许可的部分，并且可能包括受专利保护的算法。\n",
    "\n",
    "以下是一些可以在opencv_contrib 中获得的模块：\n",
    "\n",
    "- `Dnn`\n",
    "  深度神经网络。\n",
    "\n",
    "- `Face`\n",
    "  人脸识别。\n",
    "\n",
    "- `Text`\n",
    "  文本检测以及识别，基千许多开源的OCR算法。\n",
    "\n",
    "- `Rgbd`\n",
    "  处理由Kinect或者其他深度传感器（或者简单的由双目匹配得到的）获取的RGB+深度图像。\n",
    "\n",
    "- `Bioinspired`\n",
    "  一些基于生物学启发的视觉技术。\n",
    "\n",
    "- `ximgproc和xphoto`\n",
    "  先进的图像处理以及计算摄影学方法。\n",
    "\n",
    "- `Tracking`\n",
    "  现代目标追踪算法。\n",
    "\n"
   ],
   "metadata": {}
  },
  {
   "cell_type": "markdown",
   "source": [
    "\n",
    "### 下载和编译Contributed模块\n"
   ],
   "metadata": {}
  },
  {
   "cell_type": "markdown",
   "source": [
    "\n",
    "使用git 下载opencv_contrib模块\n",
    "\n",
    "```cmd\n",
    "git clone https://github.com/opencv/opencv_contrib.git\n",
    "```\n",
    "\n",
    "使用Cmake编译\n",
    "\n",
    "```cmd\n",
    "cmake -D CMAKE_BUILD_TYPE=Release -D OPENCV_EXTRA_MODULES_PATH=../../opencv_contrib/modules ..\n",
    "```\n",
    "\n",
    "编译好的Contributed会和普通的OpenCV模块处于同样的目录，不需要任何特殊的配置就可以使用它们。\n",
    "\n"
   ],
   "metadata": {}
  },
  {
   "cell_type": "markdown",
   "source": [
    "## 可移植性\r\n"
   ],
   "metadata": {}
  },
  {
   "cell_type": "markdown",
   "source": [
    "\n",
    "OpenCV基千可移植的理念设计，最初可以被任意通用的C++编译器编译。这表示它的C和C++代码都必须是相当标准的，以便跨平台支持更加容易。\n",
    "\n",
    "在运行平台的支持方面，OpenCV对于Intel和AMD 32位，64位(x86, x64) 的支持是最成熟的，对ARM的支持也在迅速改善中。\n",
    "\n",
    "在操作系统方面，OpenCV完全支持Windows、Linux、OS X、Android和iOS。\n",
    "\n",
    "事实上， OpenCV 已经被移植到几乎所有商用系统中，从亚马逊云以及40核的英特尔Xeon Phi到树苺派和机器狗中。\n",
    "\n",
    "|                  | x86/x64                         | ARM                       | 其他：MIP、PPC |\n",
    "| ---------------- | ------------------------------- | ------------------------- | -------------- |\n",
    "| Windows          | SIMD， IPP， Parallel，I/O      | SIMD， Parallel(3.0)，I/O | N/A            |\n",
    "| Linux            | SIMD， IPP， Parallel，I/O      | SIMD， Parallel，I/O      | Parallel，I/O  |\n",
    "| Android          | SIMD， IPP(3.0)， Parallel，I/O | SIMD， Parallel，I/O      | MIPS 基本支持  |\n",
    "| OS X/IOS         | SIMD， IPP(3.0)， Parallel，I/O | SIMD， Parallel，I/O      | N/A            |\n",
    "| 其他：BSD、QNX等 | SIMD                            | SIMD                      |                |\n",
    "\n",
    "Linux 中的并行化是通过笫三方库或启用OpenMP 来实现的\n",
    "Android设各中并行是通过TBB进行的\n",
    "\n",
    "- SIMD\n",
    "  用于加速的向量指令：基于x86, x64, NEON以及ARM的SSE指令集。\n",
    "\n",
    "- IPP\n",
    "  可否使用英特尔IPP 加速，从3.0 版本开始，函数库自带一个IPP 的免费子库(IPPICV) 。\n",
    "\n",
    "- Parallel\n",
    "  一些用于在多核进行线程控制的标准或者第三方线程框架。\n",
    "\n",
    "- I/O\n",
    "  一些用于抓取或者写视频的标准或第三方API。\n"
   ],
   "metadata": {}
  },
  {
   "cell_type": "markdown",
   "source": [
    "# 第2章 OpenCV初探\r\n",
    "\r\n",
    "## 头文件\r\n",
    "\r\n",
    "OpenCV的头文件是按照第1章的模块组织的。\r\n",
    "`.../include/opencv2/opencv.hpp` 包含了OpenCV各个模块的头文件：\r\n",
    "\r\n",
    "- `#include \"opencv2/core/core_c.h\"`\r\n",
    "  \r\n",
    "  旧式C风格的结构以及运算\r\n",
    "\r\n",
    "- `#include \"opencv2/core/core.hpp\"`\r\n",
    "  \r\n",
    "  新式C++风格的结构以及数学运算\r\n",
    "\r\n",
    "- `#include \"opencv2/flann/miniflann.hpp\"`\r\n",
    "  \r\n",
    "  最邻近搜索匹配函数\r\n",
    "\r\n",
    "- `#include \"opencv2/imgproc/imgproc_c.h\"`\r\n",
    "  \r\n",
    "  旧式C风格的图像处理函数\r\n",
    "\r\n",
    "- `#include \"opencv2/imgproc/imgproc.hpp\"`\r\n",
    "  \r\n",
    "  新式C++风格图像处理函数\r\n",
    "\r\n",
    "- `#include \"opencv2/video/photo.hpp\"`\r\n",
    "  \r\n",
    "  操作和恢复照片相关算法\r\n",
    "\r\n",
    "- `#include \"opencv2/video/video.hpp\"`\r\n",
    "  \r\n",
    "  视觉追踪以及背景分割\r\n",
    "\r\n",
    "- `#include \"opencv2/features2d/features2d.hpp\"`\r\n",
    "  \r\n",
    "  用于追踪的二维特征\r\n",
    "\r\n",
    "- `#include \"opencv2/objdetect/objdetect.hpp\"`\r\n",
    "  \r\n",
    "  级联人脸分类器、latent SVM分类器、HoG特征和平面片检测器\r\n",
    "\r\n",
    "- `#include \"opencv2/calib3d/calib3d.hpp\"`\r\n",
    "  \r\n",
    "  校准以及双目视觉相关\r\n",
    "\r\n",
    "- `#include \"opencv2/ml/ml.hpp\"`\r\n",
    "  \r\n",
    "  机器学习、聚类以及模式识别相关\r\n",
    "\r\n",
    "- `#include \"opencv2/highgui/highgui_c.h\"`\r\n",
    "  \r\n",
    "  旧式C风格的显示、滑动条、鼠标操作以及输入输出相关\r\n",
    "\r\n",
    "- `#include \"opencv2/highgui/highgui.hpp\"`\r\n",
    "  \r\n",
    "  新式C++风格的显示、滑动条、鼠标操作以及输入输出相关\r\n",
    "\r\n",
    "- `#include \"opencv2/contrib/contrib.hpp\"`\r\n",
    "  \r\n",
    "  用户贡献的代码、皮肤检测、模糊Mean-Shift追踪、spin image算法及自相似特征等\r\n",
    "\r\n",
    "\r\n",
    "可以使用头文件opencv.hpp来包含所有可能在OpenCV 函数中用到的头文件，但是这会减慢编译的速度。如果只使用特定的库，只包含特定的头文件所消耗的编译时间会比包含opencv.hpp消耗的编译时间少很多。这些头文件在`.../modules`文件夹中。比如， `imgproc.hpp`存在于`...lmodules/imgproc/include/opencv2/imgproclin1gproc.hpp` 。类似，函数对应的源文件也存在于对应的src 文件夹中。比如， `improc`模块的`cv::Canny()`函数存在于`.../modules/improc/src/canny.cpp`。\r\n",
    "\r\n",
    "> 可以使用`opencv2/legacy/legacy.hpp`来调用遗留代码，比如说比较旧的斑点追踪、隐马尔科夫模型( HMM ) 检测、聚合追踪以及特征目标。其他位于`.../modules/legacy/include/opencv2/legacy/legacy.hpp` 。\r\n",
    "\r\n",
    "\r\n",
    "### 资源\r\n",
    "\r\n",
    "几个不错的OpenCV 资源：\r\n",
    "\r\n",
    "- 对整个OpenCV库进行概述：\r\n",
    "  \r\n",
    "  <https://www.slideshare.net/zblair/opencv-introduction>\r\n",
    "\r\n",
    "- OpenCV3 概述\r\n",
    "  \r\n",
    "  <https://slideplayer.com/slide/10302485/>\r\n",
    "\r\n",
    "\r\n",
    "- 关于加速的讨论\r\n",
    "  \r\n",
    "  <https://www.slideshare.net/embeddedvision/making-opencv-code-run-fast-a-presentation-from-intel>\r\n",
    "\r\n",
    "- 关于模块的讨论\r\n",
    "  \r\n",
    "  <https://docs.opencv.org/3.1.0/>\r\n",
    "\r\n",
    "\r\n",
    "## 第一个程序\r\n",
    "\r\n",
    "OpenCV提供了一些实用工具来读取从视频流到摄像机画面的各种各样的图像格式，这些工具都是HighGUI的一部分。\r\n",
    "\r\n",
    "打开一张图像并且将其显示在屏幕上的代码\r\n",
    "\r\n",
    "```c++\r\n",
    "int x;\r\n",
    "``"
   ],
   "metadata": {}
  },
  {
   "cell_type": "markdown",
   "source": [],
   "metadata": {}
  },
  {
   "cell_type": "markdown",
   "source": [
    "# 第3章 了解OpenCV的数据结构\r\n",
    "\r\n",
    "## OpenCV的数据结构\r\n",
    "\r\n",
    "OpenCV 有很多数据类型，它们都基于一些重要视觉概念的抽象而设计，以此提供相对简单、直观的表示和处理。对于特定需求的基本数据结构，OpenCV库使用基础数据类型模板构建并特化这些模板，从而使每个人能更简单地执行操作并满足自己的需求。\r\n",
    "\r\n",
    "从组织结构的角度来看， OpenCV的基础数据类型主要分为三类。\r\n",
    "\r\n",
    "- 第一类是直接从C++原语中继承的基础数据类型（如int和float等） 。\r\n",
    "  这些类型包括简单的数组和矩阵，同时也代表一些简单的几何概念，比如点、矩形、大小等；\r\n",
    "  典型代表是`cv::Mat`类，用来代表任意维度的包含任意基础元素的数组。存储图片对象是`cv::Mat`类的特殊用途，但不同于早期OpenCV版本（比如，2.1以前版本），这样的专门应用不需要不同的类或类型。\r\n",
    "  除了`cv::Mat`, 这个类别还涵盖其相关的类型，比如稀疏矩阵`cv::SparseMat`等。\r\n",
    "  除了这些类型， OpenCV还使用了很多标准模板库(STL) 。OpenCV相当依赖vector类，许多OpenCV 库函数在参数列表中有vector模板类。\r\n",
    "\r\n",
    "- 第二类是辅助对象。\r\n",
    "  这些对象代表更抽象的概念，比如垃圾收集指针类、用于数据切片的范围对象(range objects) 以及抽象的终止条件类等。\r\n",
    "\r\n",
    "- 第三类可以称为大型数组类型。\r\n",
    "  这些对象原本目的是涵盖数组或一些其他的原语、程序集或更常见的基础数据类型。\r\n",
    "\r\n",
    "### 基本类型概述\r\n",
    "\r\n",
    "#### `cv::Vec<>`\r\n",
    "\r\n",
    "最简单的基本数据类型是模板类`cv::Vec<>`, 它是一个原语的容器类，也就是我们所称的固定向量类。\r\n",
    "`cv::Vec<>` 是一个适用任何类型的容器，并使用模板来创迁此功能。所以， `cv::Vec<>` 可以包含其他类对象，不论是来自OpenCV还是别的地方。在大部分使用场合， `cv::Vec`都被用作一个C语言原语类型（如int或float) 的容器。\r\n",
    "\r\n",
    "> 为何不直接使用STL的类呢？\r\n",
    "> 它们之间主要的不同点在千，固定向量类用于在编译时已经知道维度的小型向量。这允许代码以更高的效率处理与此类向量相关的操作。在实际使用中， “小”意味着，如果用来处理多个元素，说明你可能错误使用了这个类。（事实上，在2.2版本中，元素的数量在任何实例中都不能超过9) 。\r\n",
    "\r\n",
    "`cv::Vec<>`是模板，有很多它的别名(typedef) 以便用于通用的实例：`cv::Vec2i`, `cv::Vec3i`和`cv::Vec4d`等（分别对应于2个元素的整型向量、3 个元素的整型向量和4个元素的双精度浮点向量）。\r\n",
    "\r\n",
    "任何有着`cv::Vec{2,3,4,6}{b,w,s,i,f,d}`形式的声明，对于2个到6个维度的6种数据类型的任何组合都是有效的。\r\n",
    "这里提到的6种数据类型在库中一般缩写为 b = unsigned char, w = unsigned short, s = short, i = int, f = float, d = double。\r\n",
    "\r\n",
    "#### `cv::Matx<>`\r\n",
    "\r\n",
    "除了固定向量类，库中还有固定矩阵类。它们与模板类`cv::Matx<>` 相关联。与固定向量类一样， `cv::Matx<>`并不是用于大型数组的，相反，它是设计用于一些特定的小型矩阵操作。在计算机视觉中，有很多的2x2或3x3 的矩阵，同时有少量的4X4矩阵用于各种变换。`cv::Matx<>`设计用于容纳这些对象。\r\n",
    "与`cv::Vec<>` 类似， `cv::Matx<>`一般都以别名`cv::Matx{1,2,3,4,6}{1,2,3,4,6}{f,d}`的形式应用。\r\n",
    "\r\n",
    "关于固定矩阵类需要注意的是，固定矩阵类的维度在编译之前必须已知。正是这种限定使得固定矩阵类的运算效率高，同时消除了许多动态内存分配操作。\r\n",
    "\r\n",
    "#### `cv::Point`\r\n",
    "\r\n",
    "与固定向量类关系非常类似的是`cv::Point`类，它是两到三个原语类型的容器。Point类不是从固定向最类继承下来的，而是由自己的模板派生的，但同时它们也可以从固定向量类转换得到。\r\n",
    "Point类与固定向量类之间最大的不同是它们的成员是通过名称变量访问的(`mypoint.x`, `mypoint.y`等）而不是通过下标访问( `myvec[0]`, `myvec[1]` 等） 。\r\n",
    "和`cv::Vec<>` 一样， Point类是通过别名调用作为一个正确模板的实例。这些别名可以是`cv::Point2i`, `cv::Point2f`, `cv::Point2d`或`cv::Point3i`， `cv::Point3f`, `cv::Point3d`。\r\n",
    "\r\n",
    "\r\n",
    "#### `cv::Scalar`\r\n",
    "\r\n",
    "`cv::Scalar`本质上是一个四维Point类。与Point类相似， `cv::Scalar`实际上与一个可以产生任意四元素向量的模板相关，但`cv::Scalar`一般是双精度四元素向量的别名。\r\n",
    "不像Point类， `cv::Scalar`对象的元素是通过整数下标来访问的，这与`cv::Vec<>`相同。这是因为`cv::Scalar`直接继承`cv::Vec<>` 实例（更准确地说，继承自`cv::Vec<double,4>`) 。\r\n",
    "\r\n",
    "#### `cv::Size`\r\n",
    "\r\n",
    "继承自自己的模板。`cv::Size`有`width`和`height`这两个属性而不是`x`和`y`,\r\n",
    "\r\n",
    "`cv::Size`类实际上是`cv::Size2i`的别名，在宽度和高度为整数的情况下，它本身就是一个更通用的模板的别名。对千浮点类型的宽度和高度，使用别名`cv::Size2f`。\r\n",
    "\r\n",
    "#### `cv::Rect`\r\n",
    "\r\n",
    "继承自自己的模板。`cv::Size`有`width`、`height`、`x`和`y`这四个属性。\r\n",
    "`cv::Rect`是一个整数类型的矩形的别名。\r\n",
    "\r\n",
    "还有一个类用来表示非轴对称的矩形，它便是`cv::RotateRect`, 它含有一个`cv::Point2f`类型的中心点， 一个`cv::Size2f`类型的size, 还有一个额外的浮点类型的角度。\r\n",
    "\r\n",
    "### 深入了解基础类型\r\n",
    "\r\n",
    "每一个基础类型实际上都是一个相对复杂的类，支持它自己的接口函数、重载以及类似操作。\r\n",
    "\r\n",
    "#### Point类\r\n",
    "\r\n",
    "Point类可能是最简单的基础类型，其实现是基于一个基础模板结构，所以它们可以成为任何类型的点，如整型和浮点型等。\r\n",
    "其有两个这样的模板， 一个是给二维点提供的，另一个是给三维点提供的。Point类的巨大优势在千它们简单且开销小。原生上并没有对它们定义很多操作，但它们可以转换成更广义的类型，比如在需要的时候可以转换为固定向最类或者是固定矩阵类。\r\n",
    "\r\n",
    "在大多数程序中， Point类是通过类似于`cv::Point2i`和`cv::Point3f`这类别名来实例化的，这些别名的最后一个字母表示构造该点所需要的原语（在这里， b 是一个无符号宇符， s是一个短整型， i是一个32位整型， f是一个32位浮点数， d是一个64位浮点数） 。\r\n",
    "\r\n",
    "Point类原生支持的函数列表如下：\r\n",
    "\r\n",
    "| 操作                     | 示例                                                     |\r\n",
    "| ------------------------ | -------------------------------------------------------- |\r\n",
    "| 默认构造函数             | `cv::Point2i p;`<br />`cv::Point3f p;`                   |\r\n",
    "| 复制构造函数             | `cv::Point3f p2(p1);`                                    |\r\n",
    "| 值构造函数               | `cv::Point2i(x0, x1);`<br />`cv::Point3d p(x0, x1, x2);` |\r\n",
    "| 构造成固定向量类         | `(cv::Vec3f) p;`                                         |\r\n",
    "| 成员访问                 | `p.x p.y p.z`                                            |\r\n",
    "| 点乘                     | `float x = p1.dot(p2);`                                  |\r\n",
    "| 双精度点乘               | `double x = p2.dot(p2);`                                 |\r\n",
    "| 叉乘                     | `p1.cross(p2); // 只有三维点`                            |\r\n",
    "| 判断一个点p是否在矩形r内 | `p1.inside(r); // 只有两维点`                            |\r\n",
    "\r\n",
    "\r\n",
    "这些类型可以与C接口类型CvPoint和CvPoint2D32f互相转换。若一个Point类的浮点值实例被转换成整型，那么那个值将被自动取整。\r\n",
    "\r\n",
    "##### `cv::Scalar`类\r\n",
    "\r\n",
    "`cv::Scalar`是四维点类。与其他类型类似，它实际上与一个模板类相关，但访问它的别名返回一个该模板的实例，在这个模板中，所有的成员都是双精度浮点数。在计算机视觉中， `cv::Scalar`类有一些与四元向量相关的特殊成员函数。\r\n",
    "\r\n",
    "`cv::Scalar`类支持的操作如下:\r\n",
    "\r\n",
    "| 操作             | 示例                                              |\r\n",
    "| ---------------- | ------------------------------------------------- |\r\n",
    "| 默认构造函数     | `cv::Scalar s;`                                   |\r\n",
    "| 复制构造函数     | `cv::Scalar s2(s1);`                              |\r\n",
    "| 值构造函数       | `cv::Scalar s(x0); cv::Scalar s(x0, x1, x2, x3);` |\r\n",
    "| 元素相乘         | `s1.mul(s2);`                                     |\r\n",
    "| (四元数)共轭     | `s.conj(); //返回 cv::Scalar(s0, -s1, -s2, -s3)`  |\r\n",
    "| (四元数)真值测试 | `s.isReal(); //如果s1=s2=s3=0则返回true `         |\r\n",
    "\r\n",
    "不像Point类， cv: :Scalar直接从固定向量类模板实例中继承而来。因此，它继承了所有的向量代数操作、成员访问函数（比如，操作符`[]`）和一些固定向量类的特性。\r\n",
    "\r\n",
    "cv::Scalar类可以与旧式C语言接口CvScalar 自由地互换。\r\n",
    "\r\n",
    "##### size类\r\n",
    "\r\n",
    "size 类在实际操作时与Point类相似，而且可以与Point类互相转换。这两者之间主要的区别在于Point 类的数据成员是x和y, 而size类中对应的成员是width和height 。\r\n",
    "size 类的三个别名分别是`cv::Size`, `cv::Size2i`, `cv::Size2f`。 前面两个是等价的，表示整数大小，而最后一个是表示32位浮点大小\r\n",
    "\r\n",
    "size类直接支持的操作如下\r\n",
    "\r\n",
    "| 操作         | 示例                                                       |\r\n",
    "| ------------ | ---------------------------------------------------------- |\r\n",
    "| 默认构造函数 | `cv::Size sz;`<br />`cv::Size2i sz;`<br />`cv::Size2f sz;` |\r\n",
    "| 复制构造函数 | `cv::Size sz2(sz1);`                                       |\r\n",
    "| 值构造函数   | `cv::Size sz(w, h);`                                       |\r\n",
    "| 成员访问     | `s1.width s1.height`                                       |\r\n",
    "| 计算面积     | `s.area();`                                                |\r\n",
    "\r\n",
    "不像Point 类， size类不支持转换到固定向量类。\r\n",
    "\r\n",
    "而与Point 类相似， size类可以与对应的旧类型的OpenCV类(CvSize和CvSize2D32f) 互相转换。\r\n",
    "\r\n",
    "\r\n",
    "#### `cv:Rect` 类\r\n",
    "\r\n",
    "矩形类包含Point类的成员x和y (矩形左上角）和size类的成员width和height (代表了矩形的大小） 。然而矩形类并不是从Point类或size类继承过来的，所以它并没有从它们那里继承操作。\r\n",
    "\r\n",
    "`cv::Rect`直接支持的操作如下:\r\n",
    "\r\n",
    "| 操作                 | 示例                       |\r\n",
    "| -------------------- | -------------------------- |\r\n",
    "| 默认构造函数         | `cv::Rect r;`              |\r\n",
    "| 复制构造函数         | `cv::Rect r2(r1);`         |\r\n",
    "| 值构造函数           | `cv::Rect(x, y, w, h);`    |\r\n",
    "| 由初始点和大小构造   | `cv::Rect(p, sz);`         |\r\n",
    "| 由两个对角构造       | `cv::Rect(p1, p2);`        |\r\n",
    "| 成员访问             | `r.x r.y r.width r.height` |\r\n",
    "| 计算面积             | `r.area();`                |\r\n",
    "| 提取左上角           | `r.tl();`                  |\r\n",
    "| 提取右下角           | `r.br();`                  |\r\n",
    "| 判断点p是否在矩形r内 | `r.contains(p);`           |\r\n",
    "\r\n",
    "转换操作符和复制构造函数的目的是让`cv::Rect` 能从旧的类型`cv::CvRect` 转换。`cv::Rect`实际上是用整数实例化的一个矩形模板的别名。\r\n",
    "\r\n",
    "cv::Rect也支持一系列的覆写操作符，它们可以用于计符两个矩形、一个矩形或别的对象的各种各样的几何特性。\r\n",
    "\r\n",
    "| 操作                                 | 示例                               |\r\n",
    "| ------------------------------------ | ---------------------------------- |\r\n",
    "| 矩形r1和矩形r2的交集                 | `cv::Rect r3= r1 & r2; r1 &=r2;`   |\r\n",
    "| 同时包含矩形r1和矩形r2的最小面积矩形 | `cv::Rect r3 = r1 | r2; r1 |= r2;` |\r\n",
    "| 平移矩形r x个数量                    | `cv::Rect rx = r + x; r += x;`     |\r\n",
    "| 扩大矩形r s大小                      | `cv::rect rs = r + s; r += s;`     |\r\n",
    "| 比较矩形r1和矩形r2是否相等           | `bool eq = (r1 == r2);`            |\r\n",
    "| 比较矩形r1和矩形r2是否不相等         | `bool nq = (r1 != r2);`            |\r\n",
    "\r\n",
    "##### `cv::RotatedRect`类\r\n",
    "\r\n",
    "CV::RotatedRect类是OpenCV 中少数底层没有使用模板的C++接口类之一。同时，它是包含一个中心点`cv::Point2f` 、一个大小`cv::Size2f`和一个额外的角度float 的容器。\r\n",
    "\r\n",
    "其中浮点类型(float) 的角度代表图形绕中心点旋转的角度。`cv::RotatedRect`和`cv::Rect`有一个非常重要的不同点是`cv::RotatedRect`是以中心为原点的，而`cv::Rect` 则位于左上角\r\n",
    "为原点。\r\n",
    "\r\n",
    "`cv::RotatedRect`类直接支持的操作如下：\r\n",
    "\r\n",
    "\r\n",
    "| 操作                                       | 示例                                |\r\n",
    "| ------------------------------------------ | ----------------------------------- |\r\n",
    "| 默认构造函数                               | `cv::RotatedRect rr();`             |\r\n",
    "| 复制构造函数                               | `cv::RotatedRect rr2(rr1);`         |\r\n",
    "| 从两个点构造                               | `cv::RotatedRect(p1, p2);`          |\r\n",
    "| 值构造函数，需要一个点、一个大小、一个角度 | `cv::RotatedRect rr(p, sz, theta);` |\r\n",
    "| 成员访问                                   | `rr.center rr.size rr.angle`        |\r\n",
    "| 返回四个角的列表                           | `rr.points(pts[4]);`                |\r\n",
    "\r\n",
    "\r\n",
    "##### 固定矩阵类\r\n",
    "\r\n",
    "固定矩阵类是为编译时就已知维度的矩阵打造的，这也是它称为＂固定”的原因。因为它们内部的所有数据都是在堆栈上分配的，所以它们的分配和清除都很快。\r\n",
    "对固定矩阵类的操作运行很快，它们还在小型矩阵(2X2, 3X3, 等等）上做过特别的优化。\r\n",
    "\r\n",
    "固定矩阵类同时也是在OpenCV 的C++接口中基本类型的核心。\r\n",
    "\r\n",
    "固定向量类继承自固定矩阵类，而其他类的重要操作，要么是继承自固定向量类（类似`cv::Scalar`) ,要么是依赖于转换成固定向量类。\r\n",
    "\r\n",
    "固定矩阵类实际上是一个模板。这个模板称为`cv::Matx<>`, 但独立的矩阵则通常通过别名分配，其基础格式是`cv::Matx{1,2, ... }{1,2, ... }{f,d}`，其中的数字可以是1 到6之间的任何数，尾部的字母与之前的类型一样。\r\n",
    "\r\n"
   ],
   "metadata": {}
  }
 ],
 "metadata": {
  "interpreter": {
   "hash": "dc3a79d02e3469cbec5822c12e3a61e4cdd923ad27dbed24729b99d20cacf7eb"
  },
  "kernelspec": {
   "name": "python3",
   "display_name": "Python 3.8.0 64-bit"
  },
  "language_info": {
   "codemirror_mode": {
    "name": "ipython",
    "version": 3
   },
   "file_extension": ".py",
   "mimetype": "text/x-python",
   "name": "python",
   "nbconvert_exporter": "python",
   "pygments_lexer": "ipython3",
   "version": "3.8.0"
  }
 },
 "nbformat": 4,
 "nbformat_minor": 2
}